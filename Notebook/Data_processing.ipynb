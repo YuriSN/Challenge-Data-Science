{
  "nbformat": 4,
  "nbformat_minor": 0,
  "metadata": {
    "colab": {
      "provenance": [],
      "authorship_tag": "ABX9TyMB74qsVtsa3h7YhpDFzvjj",
      "include_colab_link": true
    },
    "kernelspec": {
      "name": "python3",
      "display_name": "Python 3"
    },
    "language_info": {
      "name": "python"
    }
  },
  "cells": [
    {
      "cell_type": "markdown",
      "metadata": {
        "id": "view-in-github",
        "colab_type": "text"
      },
      "source": [
        "<a href=\"https://colab.research.google.com/github/YuriSN/Challenge-Data-Science/blob/main/Notebook/Data_processing.ipynb\" target=\"_parent\"><img src=\"https://colab.research.google.com/assets/colab-badge.svg\" alt=\"Open In Colab\"/></a>"
      ]
    },
    {
      "cell_type": "markdown",
      "source": [
        "# Spark Configuration"
      ],
      "metadata": {
        "id": "AoSKzNCHq6Y7"
      }
    },
    {
      "cell_type": "code",
      "source": [
        "# Installing the Dependencies\n",
        "!apt-get update -qq\n",
        "!apt-get install openjdk-8-jdk-headless -qq > /dev/null\n",
        "!wget -q https://archive.apache.org/dist/spark/spark-3.3.1/spark-3.3.1-bin-hadoop3.tgz\n",
        "!tar xf spark-3.3.1-bin-hadoop3.tgz\n",
        "!pip install -q findspark"
      ],
      "metadata": {
        "id": "og3zhNBKq80q"
      },
      "execution_count": 1,
      "outputs": []
    },
    {
      "cell_type": "code",
      "source": [
        "import os\n",
        "os.environ[\"JAVA_HOME\"] = \"/usr/lib/jvm/java-8-openjdk-amd64\"\n",
        "os.environ[\"SPARK_HOME\"] = \"/content/spark-3.3.1-bin-hadoop3\""
      ],
      "metadata": {
        "id": "9i644cQtr29R"
      },
      "execution_count": 2,
      "outputs": []
    },
    {
      "cell_type": "code",
      "source": [
        "import findspark\n",
        "findspark.init()"
      ],
      "metadata": {
        "id": "kE0IjK9Tr4bw"
      },
      "execution_count": 3,
      "outputs": []
    },
    {
      "cell_type": "markdown",
      "source": [
        "# SparkSession"
      ],
      "metadata": {
        "id": "311bRXLEr7V_"
      }
    },
    {
      "cell_type": "code",
      "source": [
        "from pyspark.sql import SparkSession\n",
        "\n",
        "spark = SparkSession.builder \\\n",
        "    .master('local[*]') \\\n",
        "    .appName(\"Getting Started with Spark\") \\\n",
        "    .config('spark.ui.port', '4050')\\\n",
        "    .getOrCreate()"
      ],
      "metadata": {
        "id": "u-ZxESTYsBuS"
      },
      "execution_count": 15,
      "outputs": []
    },
    {
      "cell_type": "code",
      "source": [
        "spark"
      ],
      "metadata": {
        "colab": {
          "base_uri": "https://localhost:8080/",
          "height": 219
        },
        "id": "aATOfpa3sTDo",
        "outputId": "244ef395-1409-4747-dba2-f2c67d1ecd21"
      },
      "execution_count": 16,
      "outputs": [
        {
          "output_type": "execute_result",
          "data": {
            "text/plain": [
              "<pyspark.sql.session.SparkSession at 0x7f960cafd950>"
            ],
            "text/html": [
              "\n",
              "            <div>\n",
              "                <p><b>SparkSession - in-memory</b></p>\n",
              "                \n",
              "        <div>\n",
              "            <p><b>SparkContext</b></p>\n",
              "\n",
              "            <p><a href=\"http://562caeaaebc0:4040\">Spark UI</a></p>\n",
              "\n",
              "            <dl>\n",
              "              <dt>Version</dt>\n",
              "                <dd><code>v3.3.1</code></dd>\n",
              "              <dt>Master</dt>\n",
              "                <dd><code>local[*]</code></dd>\n",
              "              <dt>AppName</dt>\n",
              "                <dd><code>Getting Started with Spark</code></dd>\n",
              "            </dl>\n",
              "        </div>\n",
              "        \n",
              "            </div>\n",
              "        "
            ]
          },
          "metadata": {},
          "execution_count": 16
        }
      ]
    },
    {
      "cell_type": "code",
      "source": [
        "!wget -q https://bin.equinox.io/c/4VmDzA7iaHb/ngrok-stable-linux-amd64.zip\n",
        "!unzip ngrok-stable-linux-amd64.zip"
      ],
      "metadata": {
        "colab": {
          "base_uri": "https://localhost:8080/"
        },
        "id": "Upi91G3dsTpS",
        "outputId": "8e5a51b9-ee9f-4e36-832e-dee455877afe"
      },
      "execution_count": 17,
      "outputs": [
        {
          "output_type": "stream",
          "name": "stdout",
          "text": [
            "Archive:  ngrok-stable-linux-amd64.zip\n",
            "replace ngrok? [y]es, [n]o, [A]ll, [N]one, [r]ename: y\n",
            "  inflating: ngrok                   \n"
          ]
        }
      ]
    },
    {
      "cell_type": "code",
      "source": [
        "get_ipython().system_raw('./ngrok authtoken ngrok config add-authtoken 2Hbu6QsAExBSLe6OQGTWvXJsPDH_Q5nv3qKQ9KedU2whznkW')\n",
        "get_ipython().system_raw('./ngrok http 4050 &')"
      ],
      "metadata": {
        "id": "WI9C7dnhtaiS"
      },
      "execution_count": 22,
      "outputs": []
    },
    {
      "cell_type": "code",
      "source": [
        "!curl -s http://localhost:4040/api/tunnels"
      ],
      "metadata": {
        "colab": {
          "base_uri": "https://localhost:8080/"
        },
        "id": "_t0tJyCBtdo3",
        "outputId": "cf28fd7e-25cf-410c-d42e-4f1b148767df"
      },
      "execution_count": 23,
      "outputs": [
        {
          "output_type": "stream",
          "name": "stdout",
          "text": [
            "<html>\n",
            "<head>\n",
            "<meta http-equiv=\"Content-Type\" content=\"text/html;charset=ISO-8859-1\"/>\n",
            "<title>Error 404 Not Found</title>\n",
            "</head>\n",
            "<body><h2>HTTP ERROR 404 Not Found</h2>\n",
            "<table>\n",
            "<tr><th>URI:</th><td>/api/tunnels</td></tr>\n",
            "<tr><th>STATUS:</th><td>404</td></tr>\n",
            "<tr><th>MESSAGE:</th><td>Not Found</td></tr>\n",
            "<tr><th>SERVLET:</th><td>org.glassfish.jersey.servlet.ServletContainer-5394c943</td></tr>\n",
            "</table>\n",
            "<hr/><a href=\"https://eclipse.org/jetty\">Powered by Jetty:// 9.4.48.v20220622</a><hr/>\n",
            "\n",
            "</body>\n",
            "</html>\n"
          ]
        }
      ]
    },
    {
      "cell_type": "code",
      "source": [
        "spark"
      ],
      "metadata": {
        "colab": {
          "base_uri": "https://localhost:8080/",
          "height": 219
        },
        "id": "nU3pAcVlvL-r",
        "outputId": "447824f5-e4bf-4322-ff02-7e65e6190547"
      },
      "execution_count": 21,
      "outputs": [
        {
          "output_type": "execute_result",
          "data": {
            "text/plain": [
              "<pyspark.sql.session.SparkSession at 0x7f960cafd950>"
            ],
            "text/html": [
              "\n",
              "            <div>\n",
              "                <p><b>SparkSession - in-memory</b></p>\n",
              "                \n",
              "        <div>\n",
              "            <p><b>SparkContext</b></p>\n",
              "\n",
              "            <p><a href=\"http://562caeaaebc0:4040\">Spark UI</a></p>\n",
              "\n",
              "            <dl>\n",
              "              <dt>Version</dt>\n",
              "                <dd><code>v3.3.1</code></dd>\n",
              "              <dt>Master</dt>\n",
              "                <dd><code>local[*]</code></dd>\n",
              "              <dt>AppName</dt>\n",
              "                <dd><code>Getting Started with Spark</code></dd>\n",
              "            </dl>\n",
              "        </div>\n",
              "        \n",
              "            </div>\n",
              "        "
            ]
          },
          "metadata": {},
          "execution_count": 21
        }
      ]
    },
    {
      "cell_type": "markdown",
      "source": [
        "# Loading the Data"
      ],
      "metadata": {
        "id": "EGOecqktvrpQ"
      }
    },
    {
      "cell_type": "code",
      "source": [
        "from google.colab import drive\n",
        "drive.mount('/content/drive')"
      ],
      "metadata": {
        "colab": {
          "base_uri": "https://localhost:8080/"
        },
        "id": "0RIjulYSvyDJ",
        "outputId": "ac2b5d5c-0909-4430-84e8-c284fe7697e3"
      },
      "execution_count": 24,
      "outputs": [
        {
          "output_type": "stream",
          "name": "stdout",
          "text": [
            "Mounted at /content/drive\n"
          ]
        }
      ]
    },
    {
      "cell_type": "code",
      "source": [
        "path = '/content/drive/MyDrive/Colab Notebooks/Challenger Data Science/semana-1/dataset_bruto.json'\n",
        "data = spark.read.json(path)"
      ],
      "metadata": {
        "id": "xrAKI0uPv4p5"
      },
      "execution_count": 29,
      "outputs": []
    },
    {
      "cell_type": "code",
      "source": [
        "data.limit(5).toPandas()"
      ],
      "metadata": {
        "id": "Mv1q4HxIxSsC"
      },
      "execution_count": null,
      "outputs": []
    },
    {
      "cell_type": "markdown",
      "source": [
        "# Analyzing the Data"
      ],
      "metadata": {
        "id": "crDDXW2hyxod"
      }
    },
    {
      "cell_type": "code",
      "source": [
        "from pyspark.sql.types import DoubleType, StringType, IntegerType, FloatType\n",
        "from pyspark.sql.functions import explode, explode_outer\n",
        "from pyspark.sql import functions as f\n"
      ],
      "metadata": {
        "id": "NZYh9BKxzJYo"
      },
      "execution_count": 94,
      "outputs": []
    },
    {
      "cell_type": "code",
      "source": [
        "#Number of rows and columns\n",
        "f'Rows: {data.count()}  Columns: {len(data.columns)}'"
      ],
      "metadata": {
        "colab": {
          "base_uri": "https://localhost:8080/",
          "height": 36
        },
        "id": "XzUtV94wEDNo",
        "outputId": "5a34785f-7b2b-4abd-8980-dc51725a3af2"
      },
      "execution_count": 72,
      "outputs": [
        {
          "output_type": "execute_result",
          "data": {
            "text/plain": [
              "'Rows: 89083  Columns: 3'"
            ],
            "application/vnd.google.colaboratory.intrinsic+json": {
              "type": "string"
            }
          },
          "metadata": {},
          "execution_count": 72
        }
      ]
    },
    {
      "cell_type": "code",
      "source": [
        "data.limit(5).toPandas()"
      ],
      "metadata": {
        "id": "104YnqN52CIB"
      },
      "execution_count": null,
      "outputs": []
    },
    {
      "cell_type": "code",
      "source": [
        "data.printSchema()"
      ],
      "metadata": {
        "id": "ubeOBBf82a_h"
      },
      "execution_count": null,
      "outputs": []
    },
    {
      "cell_type": "code",
      "source": [
        "anuncio=data.select('anuncio.*')\n",
        "anuncio.show()"
      ],
      "metadata": {
        "id": "HtfR-lxG2biw"
      },
      "execution_count": null,
      "outputs": []
    },
    {
      "cell_type": "code",
      "source": [
        "anuncio.limit(500).toPandas()"
      ],
      "metadata": {
        "id": "7QA7Ljqa-mAu"
      },
      "execution_count": null,
      "outputs": []
    },
    {
      "cell_type": "code",
      "source": [
        "anuncio.printSchema()"
      ],
      "metadata": {
        "id": "nYxpgkV_-n8W"
      },
      "execution_count": null,
      "outputs": []
    },
    {
      "cell_type": "markdown",
      "source": [
        "Treatment of data types"
      ],
      "metadata": {
        "id": "Xm_-4-DpFSTJ"
      }
    },
    {
      "cell_type": "code",
      "source": [
        "anuncio = anuncio.withColumn('andar', anuncio['andar'].cast(IntegerType()))"
      ],
      "metadata": {
        "id": "jPAjRUAj_FSP"
      },
      "execution_count": 143,
      "outputs": []
    },
    {
      "cell_type": "code",
      "source": [
        "anuncio = anuncio.withColumn('area_total', anuncio['area_total'][0].cast(IntegerType()))"
      ],
      "metadata": {
        "id": "kRo2T8arFteh"
      },
      "execution_count": 144,
      "outputs": []
    },
    {
      "cell_type": "code",
      "source": [
        "anuncio = anuncio.withColumn('area_util', anuncio['area_util'][0].cast(IntegerType()))"
      ],
      "metadata": {
        "id": "EfmaOmnEF7ea"
      },
      "execution_count": 145,
      "outputs": []
    },
    {
      "cell_type": "code",
      "source": [
        "anuncio = anuncio.withColumn('banheiros', anuncio['banheiros'][0].cast(IntegerType()))"
      ],
      "metadata": {
        "id": "Zi4fur2RGB0Z"
      },
      "execution_count": 146,
      "outputs": []
    },
    {
      "cell_type": "code",
      "source": [
        "anuncio = anuncio.withColumn('quartos', anuncio['quartos'][0].cast(IntegerType()))"
      ],
      "metadata": {
        "id": "zD1TCdIlGkad"
      },
      "execution_count": 147,
      "outputs": []
    },
    {
      "cell_type": "code",
      "source": [
        "anuncio = anuncio.withColumn('suites', anuncio['suites'][0].cast(IntegerType()))"
      ],
      "metadata": {
        "id": "7GwLQuAWGoiW"
      },
      "execution_count": 148,
      "outputs": []
    },
    {
      "cell_type": "code",
      "source": [
        "anuncio = anuncio.withColumn('vaga', anuncio['vaga'][0].cast(IntegerType()))"
      ],
      "metadata": {
        "id": "MlFHhVkzGsM5"
      },
      "execution_count": 149,
      "outputs": []
    },
    {
      "cell_type": "code",
      "source": [
        "anuncio = anuncio.withColumn('caracteristicas', anuncio['caracteristicas'][0].cast(StringType()))"
      ],
      "metadata": {
        "id": "NKIL3fjHGCaO"
      },
      "execution_count": 150,
      "outputs": []
    },
    {
      "cell_type": "markdown",
      "source": [
        "Address Column Handling"
      ],
      "metadata": {
        "id": "3DrW6f9OIKeI"
      }
    },
    {
      "cell_type": "code",
      "source": [
        "endereco = anuncio.select('endereco.*')\n",
        "endereco.show()"
      ],
      "metadata": {
        "id": "nL_AkoRNINCu"
      },
      "execution_count": null,
      "outputs": []
    },
    {
      "cell_type": "code",
      "source": [
        "endereco = endereco.select('bairro', 'zona')\n",
        "endereco.show()"
      ],
      "metadata": {
        "id": "nmwWjZeuJKBR"
      },
      "execution_count": null,
      "outputs": []
    },
    {
      "cell_type": "code",
      "source": [
        "#information about **bairro** and **zona** of the city being extracted.\n",
        "anuncio = anuncio.withColumn('bairro', anuncio['endereco']['bairro'])\n",
        "anuncio = anuncio.withColumn('zona', anuncio['endereco']['zona'])"
      ],
      "metadata": {
        "id": "So5I3fvMKgqt"
      },
      "execution_count": 151,
      "outputs": []
    },
    {
      "cell_type": "code",
      "source": [
        "#Deleting column \"endereco\"\n",
        "anuncio = anuncio.drop('endereco')"
      ],
      "metadata": {
        "id": "Jh-qqorVLPyW"
      },
      "execution_count": 152,
      "outputs": []
    },
    {
      "cell_type": "markdown",
      "source": [
        "Value Column Handling"
      ],
      "metadata": {
        "id": "5JgRgDhbLmbw"
      }
    },
    {
      "cell_type": "code",
      "source": [
        "anuncio = anuncio.withColumn('condominio', anuncio['valores']['condominio'][0].cast(IntegerType()))"
      ],
      "metadata": {
        "id": "kBNJtzmzLoN-"
      },
      "execution_count": 153,
      "outputs": []
    },
    {
      "cell_type": "code",
      "source": [
        "anuncio = anuncio.withColumn('iptu', anuncio['valores']['iptu'][0].cast(IntegerType()))"
      ],
      "metadata": {
        "id": "8oNBqifrMv9M"
      },
      "execution_count": 154,
      "outputs": []
    },
    {
      "cell_type": "code",
      "source": [
        "anuncio = anuncio.withColumn('tipo', anuncio['valores']['tipo'][0].cast(StringType()))"
      ],
      "metadata": {
        "id": "-uCFfOOSMzLu"
      },
      "execution_count": 155,
      "outputs": []
    },
    {
      "cell_type": "code",
      "source": [
        "anuncio = anuncio.withColumn('valor', anuncio['valores']['valor'][0].cast(IntegerType()))"
      ],
      "metadata": {
        "id": "pV5aYiH-M3hl"
      },
      "execution_count": 156,
      "outputs": []
    },
    {
      "cell_type": "code",
      "source": [
        "#Deleting column \"valores\"\n",
        "anuncio = anuncio.drop('valores')"
      ],
      "metadata": {
        "id": "F2URCCtxNWWQ"
      },
      "execution_count": 157,
      "outputs": []
    },
    {
      "cell_type": "markdown",
      "source": [
        "Filtering by \"Vendas\""
      ],
      "metadata": {
        "id": "kg7Q8mC9Q0oD"
      }
    },
    {
      "cell_type": "code",
      "source": [
        "anuncio.where(\"tipo== 'Venda'\")\n",
        "anuncio.show()"
      ],
      "metadata": {
        "id": "j06HkuhkQ4NO"
      },
      "execution_count": null,
      "outputs": []
    },
    {
      "cell_type": "markdown",
      "source": [
        "Filtering by `tipo_uso`, `tipo_unidade` e `tipo_anuncio` "
      ],
      "metadata": {
        "id": "iGG7SkyuRxNa"
      }
    },
    {
      "cell_type": "code",
      "source": [
        "anuncio.groupBy(['tipo_uso', 'tipo_unidade', 'tipo_anuncio']).count().orderBy('count', ascending= False).show()"
      ],
      "metadata": {
        "id": "kCK4yA6NR3_W"
      },
      "execution_count": null,
      "outputs": []
    },
    {
      "cell_type": "code",
      "source": [
        "anuncio.where('tipo_uso == \"Residencial\" and tipo_unidade == \"Apartamento\" and tipo_anuncio == \"Usado\"').show()"
      ],
      "metadata": {
        "colab": {
          "base_uri": "https://localhost:8080/"
        },
        "id": "0p39JY1BTCTy",
        "outputId": "cc7a9c63-e9d6-4043-9091-305c131f845c"
      },
      "execution_count": 169,
      "outputs": [
        {
          "output_type": "stream",
          "name": "stdout",
          "text": [
            "+-----+----------+---------+---------+------------------+--------------------+-------+------+------------+------------+-----------+----+--------------------+----------+----------+----+-----+-----+\n",
            "|andar|area_total|area_util|banheiros|   caracteristicas|                  id|quartos|suites|tipo_anuncio|tipo_unidade|   tipo_uso|vaga|              bairro|      zona|condominio|iptu| tipo|valor|\n",
            "+-----+----------+---------+---------+------------------+--------------------+-------+------+------------+------------+-----------+----+--------------------+----------+----------+----+-----+-----+\n",
            "|    3|        43|       43|        1|          Academia|d2e3a3aa-09b5-45a...|      2|  null|       Usado| Apartamento|Residencial|   1|           Paciência|Zona Oeste|       245|null|Venda|15000|\n",
            "|    2|        42|       42|        1|     Churrasqueira|085bab2c-87ad-452...|      2|  null|       Usado| Apartamento|Residencial|   1|           Paciência|Zona Oeste|         0|   0|Venda|15000|\n",
            "|    1|        41|       41|        1|      Portaria 24h|18d22cbe-1b86-476...|      2|  null|       Usado| Apartamento|Residencial|   1|           Guaratiba|Zona Oeste|         0|   0|Venda|20000|\n",
            "|    3|        43|       43|        1|     Churrasqueira|bed8a354-9317-442...|      2|  null|       Usado| Apartamento|Residencial|   0|              Cosmos|Zona Oeste|       285|null|Venda|20000|\n",
            "|    2|        43|       43|        1|          Academia|12a13315-d67f-48f...|      2|  null|       Usado| Apartamento|Residencial|   1|           Guaratiba|Zona Oeste|       245|null|Venda|15000|\n",
            "|    3|        43|       43|        1|     Churrasqueira|a2e6d7a5-0ff0-484...|      2|     0|       Usado| Apartamento|Residencial|   0|              Cosmos|Zona Oeste|       285|null|Venda|20000|\n",
            "|    3|        43|       43|        1|     Churrasqueira|a6e3173b-c950-4db...|      2|  null|       Usado| Apartamento|Residencial|   1|           Paciência|Zona Oeste|       250|null|Venda|15000|\n",
            "|    3|        43|       43|        1|     Churrasqueira|2e6e5dfb-206c-496...|      2|     0|       Usado| Apartamento|Residencial|   1|           Guaratiba|Zona Oeste|       245|null|Venda|15000|\n",
            "|    3|        43|       43|        1|     Churrasqueira|99f8d0f9-95a4-461...|      2|     0|       Usado| Apartamento|Residencial|   1|           Paciência|Zona Oeste|       245|null|Venda|15000|\n",
            "|    4|        43|       43|        1|     Churrasqueira|b3f44c1a-2d50-4d5...|      2|  null|       Usado| Apartamento|Residencial|   1|           Guaratiba|Zona Oeste|       240|null|Venda|17999|\n",
            "|    0|        60|       60|        1|Condomínio fechado|dc99d9e1-4c63-41f...|      2|  null|       Usado| Apartamento|Residencial|   1|  Pedra de Guaratiba|Zona Oeste|         0|   0|Venda|15000|\n",
            "|    1|        43|       43|        1|     Churrasqueira|aa3606d8-8bcd-45e...|      2|  null|       Usado| Apartamento|Residencial|   1|              Cosmos|Zona Oeste|       240|   0|Venda|19999|\n",
            "|    0|        43|       43|        1|     Churrasqueira|df80b0d5-677c-4be...|      2|     0|       Usado| Apartamento|Residencial|   0|        Campo Grande|Zona Oeste|       245|null|Venda|19999|\n",
            "|    2|        43|       43|        1|          Academia|3d6c0218-9b7d-474...|      2|  null|       Usado| Apartamento|Residencial|   2|          Santa Cruz|Zona Oeste|       290|null|Venda|25000|\n",
            "|    3|        43|       43|        1|   Salão de festas|304266cc-62d1-4ce...|      2|  null|       Usado| Apartamento|Residencial|null|           Guaratiba|Zona Oeste|       285|null|Venda|29999|\n",
            "|    4|        55|       55|        2|          Academia|111472a2-afa1-4a7...|      2|     1|       Usado| Apartamento|Residencial|   1|Recreio dos Bande...|Zona Oeste|         0|   0|Venda|30000|\n",
            "|    0|        45|       45|        1|        Playground|275c1589-6537-4bf...|      2|     0|       Usado| Apartamento|Residencial|   1|              Cosmos|Zona Oeste|      null|null|Venda|30000|\n",
            "|    5|        42|       42|        1|Condomínio fechado|ab8f367f-7509-45c...|      2|     0|       Usado| Apartamento|Residencial|   0|            Realengo|Zona Oeste|       280|   0|Venda|25000|\n",
            "|    1|        43|       43|        1|     Churrasqueira|e0a3d370-66dd-4f5...|      2|  null|       Usado| Apartamento|Residencial|   1|              Cosmos|Zona Oeste|       280|null|Venda|27999|\n",
            "|    3|      null|       55|        1|          Academia|09c8ba2d-dbf1-487...|      2|     1|       Usado| Apartamento|Residencial|   1|     Todos os Santos|Zona Norte|         0|   0|Venda|26000|\n",
            "+-----+----------+---------+---------+------------------+--------------------+-------+------+------------+------------+-----------+----+--------------------+----------+----------+----+-----+-----+\n",
            "only showing top 20 rows\n",
            "\n"
          ]
        }
      ]
    },
    {
      "cell_type": "code",
      "source": [
        "anuncio.printSchema()"
      ],
      "metadata": {
        "colab": {
          "base_uri": "https://localhost:8080/"
        },
        "id": "IT597sgFVdTi",
        "outputId": "98ecfcf8-bafe-4fc0-dbb3-3d454564d7de"
      },
      "execution_count": 170,
      "outputs": [
        {
          "output_type": "stream",
          "name": "stdout",
          "text": [
            "root\n",
            " |-- andar: integer (nullable = true)\n",
            " |-- area_total: integer (nullable = true)\n",
            " |-- area_util: integer (nullable = true)\n",
            " |-- banheiros: integer (nullable = true)\n",
            " |-- caracteristicas: string (nullable = true)\n",
            " |-- id: string (nullable = true)\n",
            " |-- quartos: integer (nullable = true)\n",
            " |-- suites: integer (nullable = true)\n",
            " |-- tipo_anuncio: string (nullable = true)\n",
            " |-- tipo_unidade: string (nullable = true)\n",
            " |-- tipo_uso: string (nullable = true)\n",
            " |-- vaga: integer (nullable = true)\n",
            " |-- bairro: string (nullable = true)\n",
            " |-- zona: string (nullable = true)\n",
            " |-- condominio: integer (nullable = true)\n",
            " |-- iptu: integer (nullable = true)\n",
            " |-- tipo: string (nullable = true)\n",
            " |-- valor: integer (nullable = true)\n",
            "\n"
          ]
        }
      ]
    },
    {
      "cell_type": "markdown",
      "source": [
        "Data in parquet/csv format"
      ],
      "metadata": {
        "id": "fYcX_bb6WS1C"
      }
    },
    {
      "cell_type": "code",
      "source": [
        "anuncio.write.csv(\n",
        "    path='/content/drive/MyDrive/Colab Notebooks/Challenger Data Science/semana-1/csv',\n",
        "    mode='overwrite',\n",
        "    header = True\n",
        ")"
      ],
      "metadata": {
        "id": "QVOxIFomWTrj"
      },
      "execution_count": 171,
      "outputs": []
    },
    {
      "cell_type": "code",
      "source": [
        "#Test by checking runtime database saved in csv\n",
        "%%time\n",
        "anuncio2 = spark.read.csv(\n",
        "    path='/content/drive/MyDrive/Colab Notebooks/Challenger Data Science/semana-1/csv',\n",
        "    inferSchema = True,\n",
        "    header=True\n",
        ")"
      ],
      "metadata": {
        "colab": {
          "base_uri": "https://localhost:8080/"
        },
        "id": "Kl3sizfgVdub",
        "outputId": "bbe40eef-2b57-4e86-8f95-70d9983439a8"
      },
      "execution_count": 178,
      "outputs": [
        {
          "output_type": "stream",
          "name": "stdout",
          "text": [
            "CPU times: user 10.9 ms, sys: 2.17 ms, total: 13.1 ms\n",
            "Wall time: 1.01 s\n"
          ]
        }
      ]
    },
    {
      "cell_type": "code",
      "source": [
        "anuncio2.printSchema()"
      ],
      "metadata": {
        "id": "D2NIvqL-YROM"
      },
      "execution_count": null,
      "outputs": []
    },
    {
      "cell_type": "code",
      "source": [
        "anuncio.write.parquet(\n",
        "    path='/content/drive/MyDrive/Colab Notebooks/Challenger Data Science/semana-1/parquet',\n",
        "    mode='overwrite'\n",
        ")"
      ],
      "metadata": {
        "id": "W7UafroRYUda"
      },
      "execution_count": 177,
      "outputs": []
    },
    {
      "cell_type": "code",
      "source": [
        "#Test by checking runtime database saved in parquet\n",
        "%%time\n",
        "anuncio3 = spark.read.parquet(\n",
        "    '/content/drive/MyDrive/Colab Notebooks/Challenger Data Science/semana-1/parquet'\n",
        ")"
      ],
      "metadata": {
        "colab": {
          "base_uri": "https://localhost:8080/"
        },
        "id": "iJu7cPpYZX8C",
        "outputId": "d29aae4e-fd1d-4080-d074-cba467ba2d26"
      },
      "execution_count": 179,
      "outputs": [
        {
          "output_type": "stream",
          "name": "stdout",
          "text": [
            "CPU times: user 3.15 ms, sys: 946 µs, total: 4.1 ms\n",
            "Wall time: 235 ms\n"
          ]
        }
      ]
    }
  ]
}